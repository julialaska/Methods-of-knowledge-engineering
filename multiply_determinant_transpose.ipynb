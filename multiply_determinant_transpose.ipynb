{
 "cells": [
  {
   "cell_type": "code",
   "execution_count": 18,
   "id": "1f1765d0",
   "metadata": {},
   "outputs": [],
   "source": [
    "import numpy as np"
   ]
  },
  {
   "cell_type": "markdown",
   "id": "a80bbe9b",
   "metadata": {},
   "source": [
    "## Zad 1"
   ]
  },
  {
   "cell_type": "code",
   "execution_count": 50,
   "id": "187888de",
   "metadata": {},
   "outputs": [],
   "source": [
    "# funkcja mnożąca dwie macierze oraz zwracająca macierz iloczynów\n",
    "def multiply_matrix(matrix_a, matrix_b):\n",
    "#   warunek sprawdzający czy możliwe jest mnożenie macierzy,\n",
    "#   poprzez porównanie liczby kolumn pierwszej oraz wierszy drugiej\n",
    "    if  matrix_a.shape[1] == matrix_b.shape[0]:\n",
    "#       utworzenie macierzy wynikowej \n",
    "        C = np.zeros((matrix_b.shape[1],matrix_a.shape[0]))\n",
    "#       iteracja kolejno po liczbie wierszy pierwszej macierzy, liczbie kolumn drugiej\n",
    "#       oraz liczbie wierszy drugiej\n",
    "        for i in range(len(matrix_a)):\n",
    "            for j in range(len(matrix_b[0])):\n",
    "                for k in range(len(matrix_b)):\n",
    "                    # przemnożenie poszczególnych elementów macierzy, dodanie w odpowiednie pozycje do macierzy zerowej\n",
    "                    C[i][j] += matrix_a[i][k] * matrix_b[k][j]\n",
    "        return C\n",
    "    else:\n",
    "#       komunikat o błędzie\n",
    "        return \"Macierze nie mogą być pomnożone, liczba kolumn pierwszej macierzy i liczba wierszy drugiej muszą być równe\"\n",
    "        "
   ]
  },
  {
   "cell_type": "code",
   "execution_count": 51,
   "id": "62975d9f",
   "metadata": {},
   "outputs": [],
   "source": [
    "A = np.array([[2, 1, 1],\n",
    "            [1, 3, 6],\n",
    "            [4, 5, 5]]) \n",
    "\n",
    "B = np.array([[1, 0, 5],\n",
    "            [2, 1, 6],\n",
    "            [0, 3, 0]])\n",
    "\n",
    "D = np.array([[1, 0, 5],\n",
    "            [2, 1, 6],\n",
    "            [0, 3, 0],\n",
    "            [1, 2, 3]])\n",
    "\n",
    "E = np.array([[1, 0, 5, 3],\n",
    "            [2, 1, 6, 5],\n",
    "            [0, 3, 2, 0]])\n"
   ]
  },
  {
   "cell_type": "code",
   "execution_count": 52,
   "id": "d48e0721",
   "metadata": {},
   "outputs": [
    {
     "data": {
      "text/plain": [
       "array([[ 1., 15., 15.,  3.],\n",
       "       [ 4., 19., 28., 11.],\n",
       "       [ 6.,  3., 18., 15.],\n",
       "       [ 5., 11., 23., 13.]])"
      ]
     },
     "execution_count": 52,
     "metadata": {},
     "output_type": "execute_result"
    }
   ],
   "source": [
    "multiply_matrix(D, E)"
   ]
  },
  {
   "cell_type": "code",
   "execution_count": 53,
   "id": "7a437add",
   "metadata": {},
   "outputs": [
    {
     "data": {
      "text/plain": [
       "array([[ 4.,  4., 16.],\n",
       "       [ 7., 21., 23.],\n",
       "       [14., 20., 50.]])"
      ]
     },
     "execution_count": 53,
     "metadata": {},
     "output_type": "execute_result"
    }
   ],
   "source": [
    "multiply_matrix(A, B)"
   ]
  },
  {
   "cell_type": "code",
   "execution_count": 54,
   "id": "8d25d116",
   "metadata": {},
   "outputs": [
    {
     "data": {
      "text/plain": [
       "array([[ 1, 15, 15,  3],\n",
       "       [ 4, 19, 28, 11],\n",
       "       [ 6,  3, 18, 15],\n",
       "       [ 5, 11, 23, 13]])"
      ]
     },
     "execution_count": 54,
     "metadata": {},
     "output_type": "execute_result"
    }
   ],
   "source": [
    "# sprawdzenie \n",
    "D.dot(E)"
   ]
  },
  {
   "cell_type": "code",
   "execution_count": 55,
   "id": "445e91c6",
   "metadata": {},
   "outputs": [
    {
     "data": {
      "text/plain": [
       "array([[ 4,  4, 16],\n",
       "       [ 7, 21, 23],\n",
       "       [14, 20, 50]])"
      ]
     },
     "execution_count": 55,
     "metadata": {},
     "output_type": "execute_result"
    }
   ],
   "source": [
    "A.dot(B)"
   ]
  },
  {
   "cell_type": "markdown",
   "id": "127df841",
   "metadata": {},
   "source": [
    "## Zad 2"
   ]
  },
  {
   "cell_type": "code",
   "execution_count": 109,
   "id": "5ffa16b8",
   "metadata": {},
   "outputs": [],
   "source": [
    "def det_sarrus(matrix):\n",
    "#   obliczenie wyznacznika macierzy stosując tzw. metodę Sarrusa\n",
    "    det = (matrix[0][0] * matrix[1][1] * matrix[2][2] +\n",
    "               matrix[0][1] * matrix[1][2] * matrix[2][0] +\n",
    "               matrix[0][2] * matrix[1][0] * matrix[2][1] -\n",
    "               matrix[0][2] * matrix[1][1] * matrix[2][0] -\n",
    "               matrix[0][1] * matrix[1][0] * matrix[2][2] -\n",
    "               matrix[0][0] * matrix[1][2] * matrix[2][1])\n",
    "\n",
    "    return det\n",
    "\n",
    "def det(A):\n",
    "    # obliczenie wyznacznika macierzy 2x2 poprzez odjęcie przemnożonycxh odpowiednich wartości na przekątnych\n",
    "    if A.shape == (2,2):\n",
    "        res = A[0][0] * A[1][1] - A[1][0] * A[0][1]\n",
    "        return res\n",
    "    \n",
    "def determinant(matrix):\n",
    "    if matrix.shape == (3,3):\n",
    "#       obliczenie wyznacznika macierzy rozwinięciem Laplace'a względem 2 wiersza, używając pomocniczej funkcji det\n",
    "        res = matrix[1][0] * (-1) ** (2+1) * det(np.array([[matrix[0][1], matrix[0][2]], [matrix[2][1], matrix[2][2]]])) + \\\n",
    "              matrix[1][1] * (-1) ** (2+2) * det(np.array([[matrix[0][0], matrix[0][2]], [matrix[2][0], matrix[2][2]]])) + \\\n",
    "              matrix[1][2] * (-1) ** (2+3) * det(np.array([[matrix[0][0], matrix[0][1]], [matrix[2][0], matrix[2][1]]]))\n",
    "        \n",
    "        return res"
   ]
  },
  {
   "cell_type": "code",
   "execution_count": 92,
   "id": "a296ae5c",
   "metadata": {},
   "outputs": [],
   "source": [
    "arr = np.array([[1, 4, 5],\n",
    "                [2, 1, 6],\n",
    "                [0, 3, 2]])\n",
    "\n",
    "arr2 = np.array([[6, 1, 1],\n",
    "                [4, -2, 5],\n",
    "                [2, 8, 7]])\n",
    "\n",
    "arr2x2 = np.array([[2, 1],\n",
    "                   [1, 0]])"
   ]
  },
  {
   "cell_type": "code",
   "execution_count": 93,
   "id": "cd83cc0a",
   "metadata": {},
   "outputs": [
    {
     "data": {
      "text/plain": [
       "-1"
      ]
     },
     "execution_count": 93,
     "metadata": {},
     "output_type": "execute_result"
    }
   ],
   "source": [
    "det(arr2x2)"
   ]
  },
  {
   "cell_type": "code",
   "execution_count": 126,
   "id": "29fd56a5",
   "metadata": {},
   "outputs": [
    {
     "data": {
      "text/plain": [
       "-2"
      ]
     },
     "execution_count": 126,
     "metadata": {},
     "output_type": "execute_result"
    }
   ],
   "source": [
    "determinant(arr)"
   ]
  },
  {
   "cell_type": "code",
   "execution_count": 125,
   "id": "ddb4fbc4",
   "metadata": {},
   "outputs": [
    {
     "data": {
      "text/plain": [
       "-2"
      ]
     },
     "execution_count": 125,
     "metadata": {},
     "output_type": "execute_result"
    }
   ],
   "source": [
    "det_sarrus(arr)"
   ]
  },
  {
   "cell_type": "code",
   "execution_count": 127,
   "id": "faa80830",
   "metadata": {},
   "outputs": [
    {
     "data": {
      "text/plain": [
       "-2.000000000000001"
      ]
     },
     "execution_count": 127,
     "metadata": {},
     "output_type": "execute_result"
    }
   ],
   "source": [
    "# sprawdzenie\n",
    "\n",
    "np.linalg.det(arr)"
   ]
  },
  {
   "cell_type": "markdown",
   "id": "41f0adcd",
   "metadata": {},
   "source": [
    "## Zad 3"
   ]
  },
  {
   "cell_type": "code",
   "execution_count": 119,
   "id": "09bc2fee",
   "metadata": {},
   "outputs": [],
   "source": [
    "def transpose(matrix):\n",
    "#   utworzenie macierzy wynikowej o rozmiarze odwrotnym do macierzy początkowej(kolumny na wiersze)\n",
    "    C = np.zeros((len(matrix[0]),len(matrix)))\n",
    "#   przejście po wierszach i kolumnach macierzy początkowej\n",
    "    for i in range(len(matrix)):\n",
    "        for j in range(len(matrix[0])):\n",
    "            # przypisanie elementów macierzy początkowej do macierzy wynikowej w odwrotnej kolejnosci\n",
    "            C[j][i] = matrix[i][j]\n",
    "#   zwrócenie macierzy wynikowej       \n",
    "    return C"
   ]
  },
  {
   "cell_type": "code",
   "execution_count": 120,
   "id": "acfdc5c1",
   "metadata": {},
   "outputs": [],
   "source": [
    "arr4 = np.array([[3, 2, 4, 1, 8, 0],\n",
    "                 [2, 3, 5, 6, 0, 3],\n",
    "                 [7, 7, 2, 1, 4, 5]])"
   ]
  },
  {
   "cell_type": "code",
   "execution_count": 121,
   "id": "388fcb77",
   "metadata": {},
   "outputs": [
    {
     "data": {
      "text/plain": [
       "array([[3., 2., 7.],\n",
       "       [2., 3., 7.],\n",
       "       [4., 5., 2.],\n",
       "       [1., 6., 1.],\n",
       "       [8., 0., 4.],\n",
       "       [0., 3., 5.]])"
      ]
     },
     "execution_count": 121,
     "metadata": {},
     "output_type": "execute_result"
    }
   ],
   "source": [
    "transpose(arr4)"
   ]
  },
  {
   "cell_type": "code",
   "execution_count": 122,
   "id": "628626d8",
   "metadata": {},
   "outputs": [
    {
     "data": {
      "text/plain": [
       "array([[3, 2, 7],\n",
       "       [2, 3, 7],\n",
       "       [4, 5, 2],\n",
       "       [1, 6, 1],\n",
       "       [8, 0, 4],\n",
       "       [0, 3, 5]])"
      ]
     },
     "execution_count": 122,
     "metadata": {},
     "output_type": "execute_result"
    }
   ],
   "source": [
    "# sprawdzenie\n",
    "\n",
    "np.transpose(arr4)"
   ]
  }
 ],
 "metadata": {
  "kernelspec": {
   "display_name": "Python 3 (ipykernel)",
   "language": "python",
   "name": "python3"
  },
  "language_info": {
   "codemirror_mode": {
    "name": "ipython",
    "version": 3
   },
   "file_extension": ".py",
   "mimetype": "text/x-python",
   "name": "python",
   "nbconvert_exporter": "python",
   "pygments_lexer": "ipython3",
   "version": "3.9.13"
  }
 },
 "nbformat": 4,
 "nbformat_minor": 5
}
