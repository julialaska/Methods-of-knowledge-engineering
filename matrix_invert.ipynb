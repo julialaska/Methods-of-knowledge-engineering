{
 "cells": [
  {
   "cell_type": "code",
   "execution_count": 69,
   "id": "f3784c8b",
   "metadata": {},
   "outputs": [],
   "source": [
    "import numpy as np"
   ]
  },
  {
   "cell_type": "code",
   "execution_count": 70,
   "id": "bc9b28d0",
   "metadata": {},
   "outputs": [],
   "source": [
    "A = np.array([[8, 1, 4, 2, 1],\n",
    "              [8, 6, 4, 2, 1],\n",
    "              [1, 2, 3, 4, 1],\n",
    "              [8, 0, 6, 2, 5],\n",
    "              [1, 9, 6, 4, 1]])"
   ]
  },
  {
   "cell_type": "code",
   "execution_count": 79,
   "id": "2271fba6",
   "metadata": {},
   "outputs": [
    {
     "data": {
      "text/plain": [
       "array([[ 1.33333333e-02,  1.36666667e-01,  3.33333333e-02,\n",
       "        -1.66666667e-02, -1.00000000e-01],\n",
       "       [-2.00000000e-01,  2.00000000e-01,  0.00000000e+00,\n",
       "         2.42372632e-18,  0.00000000e+00],\n",
       "       [ 4.66666667e-01, -4.66666667e-01, -3.33333333e-01,\n",
       "        -8.95748122e-18,  3.33333333e-01],\n",
       "       [-1.20000000e-01,  1.45000000e-01,  4.50000000e-01,\n",
       "        -5.83333333e-02, -1.83333333e-01],\n",
       "       [-5.33333333e-01,  2.83333333e-01,  1.66666667e-01,\n",
       "         2.50000000e-01, -1.66666667e-01]])"
      ]
     },
     "execution_count": 79,
     "metadata": {},
     "output_type": "execute_result"
    }
   ],
   "source": [
    "np.linalg.inv(A)"
   ]
  },
  {
   "cell_type": "code",
   "execution_count": 81,
   "id": "4e9a4fd9",
   "metadata": {},
   "outputs": [
    {
     "data": {
      "text/plain": [
       "array([[1., 0., 0., 0., 0.],\n",
       "       [0., 1., 0., 0., 0.],\n",
       "       [0., 0., 1., 0., 0.],\n",
       "       [0., 0., 0., 1., 0.],\n",
       "       [0., 0., 0., 0., 1.]])"
      ]
     },
     "execution_count": 81,
     "metadata": {},
     "output_type": "execute_result"
    }
   ],
   "source": [
    "np.identity(len(A))"
   ]
  },
  {
   "cell_type": "code",
   "execution_count": 82,
   "id": "6aaf665c",
   "metadata": {},
   "outputs": [
    {
     "data": {
      "text/plain": [
       "array([[1., 0., 0., 0., 0.],\n",
       "       [0., 1., 0., 0., 0.],\n",
       "       [0., 0., 1., 0., 0.],\n",
       "       [0., 0., 0., 1., 0.],\n",
       "       [0., 0., 0., 0., 1.]])"
      ]
     },
     "execution_count": 82,
     "metadata": {},
     "output_type": "execute_result"
    }
   ],
   "source": [
    "np.eye(len(A))"
   ]
  },
  {
   "cell_type": "code",
   "execution_count": 89,
   "id": "4ba504cd",
   "metadata": {},
   "outputs": [],
   "source": [
    "def invert_matrix(matrix):\n",
    "    rows, columns = matrix.shape\n",
    "    \n",
    "    # sprawdzenie rozmiaru macierzy    \n",
    "    if rows != columns:\n",
    "        raise ValueError(\"Macierz musi być kwadratowa.\")\n",
    "        \n",
    "    # stworzenie macierzy jednostkowej o wymiarach macierzy \n",
    "    identity_matrix = np.identity(rows)\n",
    "    \n",
    "    # stworzenie kopii macierzy głównej i jednostkowej\n",
    "    matrix_copy = matrix.astype(float)\n",
    "    identity_matrix_copy = identity_matrix.astype(float)\n",
    "    \n",
    "    # pobranie długości macierzy głównej\n",
    "    n = len(matrix)\n",
    "    \n",
    "    # uruchomienie pętli przechodzącej po długości macierzy głównej (wiersze)\n",
    "    for i in range(n):\n",
    "        # wyliczenie wartości po przekątnej macierzy głównej \n",
    "        value = 1 / matrix_copy[i][i]\n",
    "        \n",
    "        # przemnożenie aktualnego wiersza macierzy głównej i jednostkowej przez uzyskaną wartosc w konkretnej iteracji\n",
    "        matrix_copy[i,:] *= value\n",
    "        identity_matrix_copy[i,:] *= value\n",
    "        \n",
    "        # uruchomienie kolejnej pętli przechodzącąej po długości macierzy głównej(kolumny)\n",
    "        for j in range(columns):\n",
    "            # postawienie warunku, który będzie omijał wartości umieszczone na przekątnej(kiedy i=j wiadomo, że to indeksy przekątnej)\n",
    "            if i != j:\n",
    "                # przemnożenie wartości (pozyskanej w konkretnej iteracji) przez wszystkie kolumny w danym wierszu macierzy głównej jak i jednostkowej\n",
    "                var = matrix_copy[j][i]\n",
    "                matrix_copy[j,:] -= var * matrix_copy[i,:]\n",
    "                identity_matrix_copy[j,:] -= var * identity_matrix_copy[i,:]\n",
    "    # zwrócenie zmodyfikowanej macierzy jednostkowej jako macierzy odwrotnej \n",
    "    # oraz zmodyfikowanej macierzy głównej mającej formę macierzy jednostkowej    \n",
    "    return identity_matrix_copy, matrix_copy"
   ]
  },
  {
   "cell_type": "code",
   "execution_count": 107,
   "id": "e1ad3830",
   "metadata": {},
   "outputs": [
    {
     "data": {
      "text/plain": [
       "array([[ 0.01333333,  0.13666667,  0.03333333, -0.01666667, -0.1       ],\n",
       "       [-0.2       ,  0.2       ,  0.        ,  0.        ,  0.        ],\n",
       "       [ 0.46666667, -0.46666667, -0.33333333,  0.        ,  0.33333333],\n",
       "       [-0.12      ,  0.145     ,  0.45      , -0.05833333, -0.18333333],\n",
       "       [-0.53333333,  0.28333333,  0.16666667,  0.25      , -0.16666667]])"
      ]
     },
     "execution_count": 107,
     "metadata": {},
     "output_type": "execute_result"
    }
   ],
   "source": [
    "A_inv, main_matrix_iden = invert_matrix(A)\n",
    "A_inv"
   ]
  },
  {
   "cell_type": "code",
   "execution_count": 101,
   "id": "b5f8e994",
   "metadata": {},
   "outputs": [
    {
     "data": {
      "text/plain": [
       "array([[ 1.33333333e-02,  1.36666667e-01,  3.33333333e-02,\n",
       "        -1.66666667e-02, -1.00000000e-01],\n",
       "       [-2.00000000e-01,  2.00000000e-01,  0.00000000e+00,\n",
       "         2.42372632e-18,  0.00000000e+00],\n",
       "       [ 4.66666667e-01, -4.66666667e-01, -3.33333333e-01,\n",
       "        -8.95748122e-18,  3.33333333e-01],\n",
       "       [-1.20000000e-01,  1.45000000e-01,  4.50000000e-01,\n",
       "        -5.83333333e-02, -1.83333333e-01],\n",
       "       [-5.33333333e-01,  2.83333333e-01,  1.66666667e-01,\n",
       "         2.50000000e-01, -1.66666667e-01]])"
      ]
     },
     "execution_count": 101,
     "metadata": {},
     "output_type": "execute_result"
    }
   ],
   "source": [
    "np.linalg.inv(A)"
   ]
  },
  {
   "cell_type": "code",
   "execution_count": null,
   "id": "5e855fee",
   "metadata": {},
   "outputs": [],
   "source": [
    "# Macierz odwrotna do macierzy kwadratowej A (ozn. A^(-1)) to taka macierz, że\n",
    "# A * A^(−𝟏) = 𝑨^(−𝟏) * A = I\n",
    "# gdzie I to macierz jednostkowa takiego samego stopnia jak macierz A."
   ]
  },
  {
   "cell_type": "code",
   "execution_count": 109,
   "id": "56e8916a",
   "metadata": {},
   "outputs": [
    {
     "name": "stdout",
     "output_type": "stream",
     "text": [
      "True\n"
     ]
    }
   ],
   "source": [
    "# sprawdzenie poprzez podstawienie do funkcji np.allclose przemnożonych\n",
    "# macierzy początkowej i odwróconej i przyrównanie do otrzymanej zmodyfikowanej macierzy głównej\n",
    "\n",
    "print(np.allclose(np.dot(A, A_inv), main_matrix_iden))"
   ]
  },
  {
   "cell_type": "code",
   "execution_count": null,
   "id": "ddcb0038",
   "metadata": {},
   "outputs": [],
   "source": []
  }
 ],
 "metadata": {
  "kernelspec": {
   "display_name": "Python 3 (ipykernel)",
   "language": "python",
   "name": "python3"
  },
  "language_info": {
   "codemirror_mode": {
    "name": "ipython",
    "version": 3
   },
   "file_extension": ".py",
   "mimetype": "text/x-python",
   "name": "python",
   "nbconvert_exporter": "python",
   "pygments_lexer": "ipython3",
   "version": "3.9.13"
  }
 },
 "nbformat": 4,
 "nbformat_minor": 5
}
