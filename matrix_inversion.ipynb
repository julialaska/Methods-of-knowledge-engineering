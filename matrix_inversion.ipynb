{
 "cells": [
  {
   "cell_type": "code",
   "execution_count": 1,
   "id": "bdbf98e3",
   "metadata": {},
   "outputs": [],
   "source": [
    "import numpy as np"
   ]
  },
  {
   "cell_type": "code",
   "execution_count": 2,
   "id": "3730eca2",
   "metadata": {},
   "outputs": [],
   "source": [
    "def det_sarrus(matrix):\n",
    "#   obliczenie wyznacznika macierzy stosując tzw. metodę Sarrusa\n",
    "    det = (matrix[0][0] * matrix[1][1] * matrix[2][2] +\n",
    "               matrix[0][1] * matrix[1][2] * matrix[2][0] +\n",
    "               matrix[0][2] * matrix[1][0] * matrix[2][1] -\n",
    "               matrix[0][2] * matrix[1][1] * matrix[2][0] -\n",
    "               matrix[0][1] * matrix[1][0] * matrix[2][2] -\n",
    "               matrix[0][0] * matrix[1][2] * matrix[2][1])\n",
    "\n",
    "    return det\n",
    "\n",
    "def det(A):\n",
    "    # obliczenie wyznacznika macierzy 2x2 poprzez odjęcie przemnożonycxh odpowiednich wartości na przekątnych\n",
    "    if A.shape == (2,2):\n",
    "        res = A[0][0] * A[1][1] - A[1][0] * A[0][1]\n",
    "        return res\n",
    "    \n",
    "def determinant(matrix):\n",
    "    if matrix.shape == (3,3):\n",
    "#       obliczenie wyznacznika macierzy rozwinięciem Laplace'a względem 2 wiersza, używając pomocniczej funkcji det\n",
    "        res = matrix[1][0] * (-1) ** (2+1) * det(np.array([[matrix[0][1], matrix[0][2]], [matrix[2][1], matrix[2][2]]])) + \\\n",
    "              matrix[1][1] * (-1) ** (2+2) * det(np.array([[matrix[0][0], matrix[0][2]], [matrix[2][0], matrix[2][2]]])) + \\\n",
    "              matrix[1][2] * (-1) ** (2+3) * det(np.array([[matrix[0][0], matrix[0][1]], [matrix[2][0], matrix[2][1]]]))\n",
    "        \n",
    "        return res\n",
    "    \n",
    "def transpose(matrix):\n",
    "#   utworzenie macierzy wynikowej o rozmiarze odwrotnym do macierzy początkowej(kolumny na wiersze)\n",
    "    C = np.zeros((len(matrix[0]),len(matrix)))\n",
    "#   przejście po wierszach i kolumnach macierzy początkowej\n",
    "    for i in range(len(matrix)):\n",
    "        for j in range(len(matrix[0])):\n",
    "            # przypisanie elementów macierzy początkowej do macierzy wynikowej w odwrotnej kolejnosci\n",
    "            C[j][i] = matrix[i][j]\n",
    "#   zwrócenie macierzy wynikowej       \n",
    "    return C"
   ]
  },
  {
   "cell_type": "code",
   "execution_count": 26,
   "id": "aad0db10",
   "metadata": {},
   "outputs": [],
   "source": [
    "def inverse_2x2(matrix):\n",
    "    # obliczenie wyznacznika macierzy\n",
    "    determinant = det(matrix)\n",
    "    \n",
    "    # sprawdzenie, czy macierz jest odwracalna, wyznacznik nie może być równy 0\n",
    "    if determinant == 0:\n",
    "        return \"Macierz nie jest odwracalna\"\n",
    "    \n",
    "    # utworzenie macierzy dopełnień\n",
    "    complement = np.array([[matrix[1][1], -matrix[1][0]], [-matrix[0][1], matrix[0][0]]])\n",
    "    \n",
    "    # transpozycja macierzy dopełnień\n",
    "    transposed = transpose(complement)\n",
    "    \n",
    "    # podzielenie macierzy dopełnień przez wyznacznik\n",
    "    inverse = transposed / determinant\n",
    "    \n",
    "    return inverse"
   ]
  },
  {
   "cell_type": "code",
   "execution_count": 42,
   "id": "cfb317f7",
   "metadata": {},
   "outputs": [],
   "source": [
    "def inverse_3x3(matrix):\n",
    "    # obliczenie wyznacznika macierzy\n",
    "    determinant = det_sarrus(matrix)\n",
    "    # sprawdzenie, czy macierz jest odwracalna, wyznacznik nie może być równy 0\n",
    "    if determinant == 0:\n",
    "        return \"Macierz nie jest odwracalna\"\n",
    "    \n",
    "    tmp = [[matrix[1][1] * matrix[2][2] - matrix[1][2] * matrix[2][1], matrix[0][2] * matrix[2][1] - matrix[0][1] * matrix[2][2], matrix[0][1] * matrix[1][2] - matrix[0][2] * matrix[1][1]],\n",
    "           [matrix[1][2] * matrix[2][0] - matrix[1][0] * matrix[2][2], matrix[0][0] * matrix[2][2] - matrix[0][2] * matrix[2][0], matrix[0][2] * matrix[1][0] - matrix[0][0] * matrix[1][2]],\n",
    "           [matrix[1][0] * matrix[2][1] - matrix[1][1] * matrix[2][0], matrix[0][1] * matrix[2][0] - matrix[0][0] * matrix[2][1], matrix[0][0] * matrix[1][1] - matrix[0][1] * matrix[1][0]]]\n",
    "    \n",
    "    # podzielenie macierzy przez wyznacznik\n",
    "    inverse = tmp / determinant\n",
    "    \n",
    "    return inverse"
   ]
  },
  {
   "cell_type": "code",
   "execution_count": 41,
   "id": "a3baec12",
   "metadata": {},
   "outputs": [],
   "source": [
    "def inverse(matrix):\n",
    "    if matrix.shape == (2, 2):\n",
    "        return inverse_2x2(matrix)\n",
    "    elif matrix.shape == (3, 3):\n",
    "        return inverse_3x3(matrix)\n",
    "    else:\n",
    "        return \"Macierz powinna mieć rozmiar 2x2 lub 3x3\""
   ]
  },
  {
   "cell_type": "code",
   "execution_count": 17,
   "id": "18b49cc1",
   "metadata": {},
   "outputs": [],
   "source": [
    "A = np.array([[3, 6], [0, 9]])"
   ]
  },
  {
   "cell_type": "code",
   "execution_count": 6,
   "id": "3a6f18c0",
   "metadata": {},
   "outputs": [
    {
     "data": {
      "text/plain": [
       "array([[ 0.33333333, -0.22222222],\n",
       "       [ 0.        ,  0.11111111]])"
      ]
     },
     "execution_count": 6,
     "metadata": {},
     "output_type": "execute_result"
    }
   ],
   "source": [
    "inverse_2x2(A)"
   ]
  },
  {
   "cell_type": "code",
   "execution_count": 7,
   "id": "8d70b97d",
   "metadata": {},
   "outputs": [
    {
     "data": {
      "text/plain": [
       "array([[ 0.33333333, -0.22222222],\n",
       "       [ 0.        ,  0.11111111]])"
      ]
     },
     "execution_count": 7,
     "metadata": {},
     "output_type": "execute_result"
    }
   ],
   "source": [
    "np.linalg.inv(A)"
   ]
  },
  {
   "cell_type": "code",
   "execution_count": 8,
   "id": "d6d25b46",
   "metadata": {},
   "outputs": [],
   "source": [
    "B = np.array([[2, 1], [5, 3]])"
   ]
  },
  {
   "cell_type": "code",
   "execution_count": 9,
   "id": "2a0e35da",
   "metadata": {},
   "outputs": [
    {
     "data": {
      "text/plain": [
       "array([[ 3., -1.],\n",
       "       [-5.,  2.]])"
      ]
     },
     "execution_count": 9,
     "metadata": {},
     "output_type": "execute_result"
    }
   ],
   "source": [
    "inverse_2x2(B)"
   ]
  },
  {
   "cell_type": "code",
   "execution_count": 10,
   "id": "39636919",
   "metadata": {},
   "outputs": [
    {
     "data": {
      "text/plain": [
       "array([[ 3., -1.],\n",
       "       [-5.,  2.]])"
      ]
     },
     "execution_count": 10,
     "metadata": {},
     "output_type": "execute_result"
    }
   ],
   "source": [
    "np.linalg.inv(B)"
   ]
  },
  {
   "cell_type": "code",
   "execution_count": 11,
   "id": "daf3f494",
   "metadata": {},
   "outputs": [],
   "source": [
    "C = np.array([[-3, -9], [1, 3]])"
   ]
  },
  {
   "cell_type": "code",
   "execution_count": 12,
   "id": "3ede1fe2",
   "metadata": {},
   "outputs": [
    {
     "data": {
      "text/plain": [
       "'Macierz nie jest odwracalna'"
      ]
     },
     "execution_count": 12,
     "metadata": {},
     "output_type": "execute_result"
    }
   ],
   "source": [
    "inverse_2x2(C)"
   ]
  },
  {
   "cell_type": "code",
   "execution_count": 13,
   "id": "2a3035d3",
   "metadata": {},
   "outputs": [
    {
     "ename": "LinAlgError",
     "evalue": "Singular matrix",
     "output_type": "error",
     "traceback": [
      "\u001B[1;31m---------------------------------------------------------------------------\u001B[0m",
      "\u001B[1;31mLinAlgError\u001B[0m                               Traceback (most recent call last)",
      "Cell \u001B[1;32mIn [13], line 1\u001B[0m\n\u001B[1;32m----> 1\u001B[0m \u001B[43mnp\u001B[49m\u001B[38;5;241;43m.\u001B[39;49m\u001B[43mlinalg\u001B[49m\u001B[38;5;241;43m.\u001B[39;49m\u001B[43minv\u001B[49m\u001B[43m(\u001B[49m\u001B[43mC\u001B[49m\u001B[43m)\u001B[49m\n",
      "File \u001B[1;32m<__array_function__ internals>:180\u001B[0m, in \u001B[0;36minv\u001B[1;34m(*args, **kwargs)\u001B[0m\n",
      "File \u001B[1;32m~\\PycharmProjects\\WDGM\\venv\\lib\\site-packages\\numpy\\linalg\\linalg.py:552\u001B[0m, in \u001B[0;36minv\u001B[1;34m(a)\u001B[0m\n\u001B[0;32m    550\u001B[0m signature \u001B[38;5;241m=\u001B[39m \u001B[38;5;124m'\u001B[39m\u001B[38;5;124mD->D\u001B[39m\u001B[38;5;124m'\u001B[39m \u001B[38;5;28;01mif\u001B[39;00m isComplexType(t) \u001B[38;5;28;01melse\u001B[39;00m \u001B[38;5;124m'\u001B[39m\u001B[38;5;124md->d\u001B[39m\u001B[38;5;124m'\u001B[39m\n\u001B[0;32m    551\u001B[0m extobj \u001B[38;5;241m=\u001B[39m get_linalg_error_extobj(_raise_linalgerror_singular)\n\u001B[1;32m--> 552\u001B[0m ainv \u001B[38;5;241m=\u001B[39m \u001B[43m_umath_linalg\u001B[49m\u001B[38;5;241;43m.\u001B[39;49m\u001B[43minv\u001B[49m\u001B[43m(\u001B[49m\u001B[43ma\u001B[49m\u001B[43m,\u001B[49m\u001B[43m \u001B[49m\u001B[43msignature\u001B[49m\u001B[38;5;241;43m=\u001B[39;49m\u001B[43msignature\u001B[49m\u001B[43m,\u001B[49m\u001B[43m \u001B[49m\u001B[43mextobj\u001B[49m\u001B[38;5;241;43m=\u001B[39;49m\u001B[43mextobj\u001B[49m\u001B[43m)\u001B[49m\n\u001B[0;32m    553\u001B[0m \u001B[38;5;28;01mreturn\u001B[39;00m wrap(ainv\u001B[38;5;241m.\u001B[39mastype(result_t, copy\u001B[38;5;241m=\u001B[39m\u001B[38;5;28;01mFalse\u001B[39;00m))\n",
      "File \u001B[1;32m~\\PycharmProjects\\WDGM\\venv\\lib\\site-packages\\numpy\\linalg\\linalg.py:89\u001B[0m, in \u001B[0;36m_raise_linalgerror_singular\u001B[1;34m(err, flag)\u001B[0m\n\u001B[0;32m     88\u001B[0m \u001B[38;5;28;01mdef\u001B[39;00m \u001B[38;5;21m_raise_linalgerror_singular\u001B[39m(err, flag):\n\u001B[1;32m---> 89\u001B[0m     \u001B[38;5;28;01mraise\u001B[39;00m LinAlgError(\u001B[38;5;124m\"\u001B[39m\u001B[38;5;124mSingular matrix\u001B[39m\u001B[38;5;124m\"\u001B[39m)\n",
      "\u001B[1;31mLinAlgError\u001B[0m: Singular matrix"
     ]
    }
   ],
   "source": [
    "# sprawdzenie\n",
    "\n",
    "np.linalg.inv(C)"
   ]
  },
  {
   "cell_type": "code",
   "execution_count": 33,
   "id": "6785d524",
   "metadata": {},
   "outputs": [],
   "source": [
    "D = np.array([[1, 0, 5], [2, 7, 6], [8, 3, 2]])"
   ]
  },
  {
   "cell_type": "code",
   "execution_count": 34,
   "id": "8a64016b",
   "metadata": {},
   "outputs": [
    {
     "data": {
      "text/plain": [
       "array([[ 0.01574803, -0.05905512,  0.13779528],\n",
       "       [-0.17322835,  0.1496063 , -0.01574803],\n",
       "       [ 0.19685039,  0.01181102, -0.02755906]])"
      ]
     },
     "execution_count": 34,
     "metadata": {},
     "output_type": "execute_result"
    }
   ],
   "source": [
    "inverse_3x3(D)"
   ]
  },
  {
   "cell_type": "code",
   "execution_count": 35,
   "id": "c7b89817",
   "metadata": {},
   "outputs": [
    {
     "data": {
      "text/plain": [
       "array([[ 0.01574803, -0.05905512,  0.13779528],\n",
       "       [-0.17322835,  0.1496063 , -0.01574803],\n",
       "       [ 0.19685039,  0.01181102, -0.02755906]])"
      ]
     },
     "execution_count": 35,
     "metadata": {},
     "output_type": "execute_result"
    }
   ],
   "source": [
    "np.linalg.inv(D)"
   ]
  },
  {
   "cell_type": "code",
   "execution_count": 23,
   "id": "252d2b6c",
   "metadata": {},
   "outputs": [],
   "source": [
    "E = np.array([[3, -1, 1], [5, 1, 4], [-1, 3, 2]])"
   ]
  },
  {
   "cell_type": "code",
   "execution_count": 22,
   "id": "9d33c355",
   "metadata": {},
   "outputs": [
    {
     "data": {
      "text/plain": [
       "'Macierz nie jest odwracalna'"
      ]
     },
     "execution_count": 22,
     "metadata": {},
     "output_type": "execute_result"
    }
   ],
   "source": [
    "inverse_3x3(E)"
   ]
  },
  {
   "cell_type": "code",
   "execution_count": 29,
   "id": "81e503c0",
   "metadata": {},
   "outputs": [
    {
     "data": {
      "text/plain": [
       "array([[ 0.33333333, -0.22222222],\n",
       "       [ 0.        ,  0.11111111]])"
      ]
     },
     "execution_count": 29,
     "metadata": {},
     "output_type": "execute_result"
    }
   ],
   "source": [
    "inverse(A)"
   ]
  },
  {
   "cell_type": "code",
   "execution_count": 30,
   "id": "11be0363",
   "metadata": {},
   "outputs": [
    {
     "data": {
      "text/plain": [
       "array([[ 3., -1.],\n",
       "       [-5.,  2.]])"
      ]
     },
     "execution_count": 30,
     "metadata": {},
     "output_type": "execute_result"
    }
   ],
   "source": [
    "inverse(B)"
   ]
  },
  {
   "cell_type": "code",
   "execution_count": 31,
   "id": "8ffc75e7",
   "metadata": {},
   "outputs": [
    {
     "data": {
      "text/plain": [
       "'Macierz nie jest odwracalna'"
      ]
     },
     "execution_count": 31,
     "metadata": {},
     "output_type": "execute_result"
    }
   ],
   "source": [
    "inverse(C)"
   ]
  },
  {
   "cell_type": "code",
   "execution_count": 36,
   "id": "1aca6826",
   "metadata": {},
   "outputs": [
    {
     "data": {
      "text/plain": [
       "array([[ 0.01574803, -0.05905512,  0.13779528],\n",
       "       [-0.17322835,  0.1496063 , -0.01574803],\n",
       "       [ 0.19685039,  0.01181102, -0.02755906]])"
      ]
     },
     "execution_count": 36,
     "metadata": {},
     "output_type": "execute_result"
    }
   ],
   "source": [
    "inverse(D)"
   ]
  },
  {
   "cell_type": "code",
   "execution_count": 37,
   "id": "212a96f7",
   "metadata": {},
   "outputs": [
    {
     "data": {
      "text/plain": [
       "'Macierz nie jest odwracalna'"
      ]
     },
     "execution_count": 37,
     "metadata": {},
     "output_type": "execute_result"
    }
   ],
   "source": [
    "inverse(E)"
   ]
  },
  {
   "cell_type": "code",
   "execution_count": 39,
   "id": "31fc4023",
   "metadata": {},
   "outputs": [],
   "source": [
    "F = np.array([[1, 2, 3], [1, 2, 3]])"
   ]
  },
  {
   "cell_type": "code",
   "execution_count": 40,
   "id": "f7f68650",
   "metadata": {},
   "outputs": [
    {
     "data": {
      "text/plain": [
       "'Macierz powinna mieć rozmiar 2x2 lub 3x3'"
      ]
     },
     "execution_count": 40,
     "metadata": {},
     "output_type": "execute_result"
    }
   ],
   "source": [
    "inverse(F)"
   ]
  },
  {
   "cell_type": "code",
   "execution_count": null,
   "id": "1372961f",
   "metadata": {},
   "outputs": [],
   "source": []
  }
 ],
 "metadata": {
  "kernelspec": {
   "display_name": "Python 3 (ipykernel)",
   "language": "python",
   "name": "python3"
  },
  "language_info": {
   "codemirror_mode": {
    "name": "ipython",
    "version": 3
   },
   "file_extension": ".py",
   "mimetype": "text/x-python",
   "name": "python",
   "nbconvert_exporter": "python",
   "pygments_lexer": "ipython3",
   "version": "3.9.10"
  }
 },
 "nbformat": 4,
 "nbformat_minor": 5
}
