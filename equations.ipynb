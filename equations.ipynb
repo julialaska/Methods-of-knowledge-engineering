{
 "cells": [
  {
   "cell_type": "code",
   "execution_count": 1,
   "id": "505e16fe",
   "metadata": {},
   "outputs": [],
   "source": [
    "import numpy as np"
   ]
  },
  {
   "cell_type": "code",
   "execution_count": 10,
   "id": "445be0ce",
   "metadata": {},
   "outputs": [],
   "source": [
    "def det_sarrus(matrix):\n",
    "#   obliczenie wyznacznika macierzy stosując tzw. metodę Sarrusa\n",
    "    det = (matrix[0][0] * matrix[1][1] * matrix[2][2] +\n",
    "               matrix[0][1] * matrix[1][2] * matrix[2][0] +\n",
    "               matrix[0][2] * matrix[1][0] * matrix[2][1] -\n",
    "               matrix[0][2] * matrix[1][1] * matrix[2][0] -\n",
    "               matrix[0][1] * matrix[1][0] * matrix[2][2] -\n",
    "               matrix[0][0] * matrix[1][2] * matrix[2][1])\n",
    "\n",
    "    return det\n",
    "\n",
    "def det(A):\n",
    "    # obliczenie wyznacznika macierzy 2x2 poprzez odjęcie przemnożonycxh odpowiednich wartości na przekątnych\n",
    "    if A.shape == (2,2):\n",
    "        res = A[0][0] * A[1][1] - A[1][0] * A[0][1]\n",
    "        return res\n",
    "    \n",
    "def determinant(matrix):\n",
    "    if matrix.shape == (3,3):\n",
    "#       obliczenie wyznacznika macierzy rozwinięciem Laplace'a względem 2 wiersza, używając pomocniczej funkcji det\n",
    "        res = matrix[1][0] * (-1) ** (2+1) * det(np.array([[matrix[0][1], matrix[0][2]], [matrix[2][1], matrix[2][2]]])) + \\\n",
    "              matrix[1][1] * (-1) ** (2+2) * det(np.array([[matrix[0][0], matrix[0][2]], [matrix[2][0], matrix[2][2]]])) + \\\n",
    "              matrix[1][2] * (-1) ** (2+3) * det(np.array([[matrix[0][0], matrix[0][1]], [matrix[2][0], matrix[2][1]]]))\n",
    "        \n",
    "        return res"
   ]
  },
  {
   "cell_type": "code",
   "execution_count": 20,
   "id": "6167380c",
   "metadata": {},
   "outputs": [],
   "source": [
    "# funkcja pomocnicza obliczająca wartość x, y dla równania z dwoma niewiadomymi\n",
    "def equation_2(a1, b1, c1, a2, b2, c2):\n",
    "    # obliczenie wyznaczników dla powstałych macierzy\n",
    "    A = np.array([[a1, b1], [a2, b2]])\n",
    "    D = det(A)\n",
    "    B = np.array([[c1, b1], [c2, b2]])\n",
    "    D_x = det(B)\n",
    "    C = np.array([[a1, c1], [a2, c2]])\n",
    "    D_y = det(C)\n",
    "    # wyznaczenie wartości x, y\n",
    "    x = D_x / D\n",
    "    y = D_y / D\n",
    "    return x, y"
   ]
  },
  {
   "cell_type": "code",
   "execution_count": 21,
   "id": "befbb9ae",
   "metadata": {},
   "outputs": [
    {
     "data": {
      "text/plain": [
       "(6.0, -5.0)"
      ]
     },
     "execution_count": 21,
     "metadata": {},
     "output_type": "execute_result"
    }
   ],
   "source": [
    "equation_2(3, 5, (-7), 1, 4, (-14))"
   ]
  },
  {
   "cell_type": "code",
   "execution_count": 27,
   "id": "e3d0d926",
   "metadata": {},
   "outputs": [],
   "source": [
    "# funkcja pomocnicza obliczająca wartość x, y, z dla równania z trzema niewiadomymi\n",
    "def equation_3(a1, b1, c1, d1, a2, b2, c2, d2, a3, b3, c3, d3):\n",
    "    # obliczenie wyznaczników dla powstałych macierzy\n",
    "    A = np.array([[a1, b1, c1], [a2, b2, c2], [a3, b3, c3]])\n",
    "    D = det_sarrus(A)\n",
    "    B = np.array([[d1, b1, c1], [d2, b2, c2], [d3, b3, c3]])\n",
    "    D_x = det_sarrus(B)\n",
    "    C = np.array([[a1, d1, c1], [a2, d2, c2], [a3, d3, c3]])\n",
    "    D_y = det_sarrus(C)\n",
    "    E = np.array([[a1, b1, d1], [a2, b2, d2], [a3, b3, d3]])\n",
    "    D_z = det_sarrus(E)\n",
    "    # wyznaczenie wartości x, y, z\n",
    "    x = D_x / D\n",
    "    y = D_y / D\n",
    "    z = D_z / D\n",
    "    \n",
    "    return x, y, z"
   ]
  },
  {
   "cell_type": "code",
   "execution_count": 28,
   "id": "2f6dbabc",
   "metadata": {},
   "outputs": [
    {
     "data": {
      "text/plain": [
       "(-1.0, 1.0, -2.0)"
      ]
     },
     "execution_count": 28,
     "metadata": {},
     "output_type": "execute_result"
    }
   ],
   "source": [
    "equation_3(1, 2, 3, (-5), 3, 1, (-3), 4, -3, 4, 7, (-7))"
   ]
  },
  {
   "cell_type": "code",
   "execution_count": 30,
   "id": "4e6a40a6",
   "metadata": {},
   "outputs": [],
   "source": [
    "# funkcja rozpatrująca układ równań z dwoma i trzema niewiadomymi,\n",
    "# używająca pomocniczych funkcji w zależności od podanych niewiadomych\n",
    "def solve_equation(a1, b1, c1, a2, b2, c2, a3 = None, b3 = None, c3 = None, d1 = None, d2 = None, d3 = None):\n",
    "    if all(el is None for el in (a3, b3, c3, d1, d2, d3)):\n",
    "        return equation_2(a1, b1, c1, a2, b2, c2)\n",
    "    else:\n",
    "        return equation_3(a1, b1, c1, d1, a2, b2, c2, d2, a3, b3, c3, d3)"
   ]
  },
  {
   "cell_type": "code",
   "execution_count": 31,
   "id": "d4570232",
   "metadata": {},
   "outputs": [
    {
     "data": {
      "text/plain": [
       "(6.0, -5.0)"
      ]
     },
     "execution_count": 31,
     "metadata": {},
     "output_type": "execute_result"
    }
   ],
   "source": [
    "solve_equation(3, 5, (-7), 1, 4, (-14))"
   ]
  },
  {
   "cell_type": "code",
   "execution_count": 32,
   "id": "8245f535",
   "metadata": {},
   "outputs": [
    {
     "data": {
      "text/plain": [
       "(-1.0, 1.0, -2.0)"
      ]
     },
     "execution_count": 32,
     "metadata": {},
     "output_type": "execute_result"
    }
   ],
   "source": [
    "solve_equation(1, 2, 3, 3, 1, (-3), (-3), 4, 7, (-5), 4, (-7))"
   ]
  },
  {
   "cell_type": "code",
   "execution_count": null,
   "id": "66e89d2d",
   "metadata": {},
   "outputs": [],
   "source": []
  }
 ],
 "metadata": {
  "kernelspec": {
   "display_name": "Python 3 (ipykernel)",
   "language": "python",
   "name": "python3"
  },
  "language_info": {
   "codemirror_mode": {
    "name": "ipython",
    "version": 3
   },
   "file_extension": ".py",
   "mimetype": "text/x-python",
   "name": "python",
   "nbconvert_exporter": "python",
   "pygments_lexer": "ipython3",
   "version": "3.9.10"
  }
 },
 "nbformat": 4,
 "nbformat_minor": 5
}
