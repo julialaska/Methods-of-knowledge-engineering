{
 "cells": [
  {
   "cell_type": "code",
   "execution_count": 1,
   "id": "5927bcec",
   "metadata": {},
   "outputs": [],
   "source": [
    "import numpy as np\n",
    "# import scipy "
   ]
  },
  {
   "cell_type": "code",
   "execution_count": 2,
   "id": "7aedf51e",
   "metadata": {},
   "outputs": [],
   "source": [
    "def det_sarrus(matrix):\n",
    "#   obliczenie wyznacznika macierzy stosując tzw. metodę Sarrusa\n",
    "    det = (matrix[0][0] * matrix[1][1] * matrix[2][2] +\n",
    "               matrix[0][1] * matrix[1][2] * matrix[2][0] +\n",
    "               matrix[0][2] * matrix[1][0] * matrix[2][1] -\n",
    "               matrix[0][2] * matrix[1][1] * matrix[2][0] -\n",
    "               matrix[0][1] * matrix[1][0] * matrix[2][2] -\n",
    "               matrix[0][0] * matrix[1][2] * matrix[2][1])\n",
    "\n",
    "    return det\n",
    "\n",
    "def det(A):\n",
    "    # obliczenie wyznacznika macierzy 2x2 poprzez odjęcie przemnożonycxh odpowiednich wartości na przekątnych\n",
    "    if A.shape == (2,2):\n",
    "        res = A[0][0] * A[1][1] - A[1][0] * A[0][1]\n",
    "        return res\n",
    "    "
   ]
  },
  {
   "cell_type": "code",
   "execution_count": 3,
   "id": "58337498",
   "metadata": {},
   "outputs": [],
   "source": [
    "def matrix_rank2(matrix):\n",
    "    # liczba wierszy macierzy\n",
    "    n = len(matrix)\n",
    "    # liczba kolumn macierzy\n",
    "    m = len(matrix[0])\n",
    "    \n",
    "    # przechodzimy po kolejnych rozmiarach podmacierzy macierzy wejściowej zaczynając od największej\n",
    "    for i in range(n, 0, -1):\n",
    "        # przechodzimy po indeksach wierszy\n",
    "        for j in range(n-i+1):\n",
    "            # iterujemy po indeksach kolumn\n",
    "            for k in range(m-i+1):\n",
    "                # wycinamy podmacierz z wejściowej macierzy\n",
    "                submatrix = matrix[j:j+i, k:k+i] \n",
    "                # jeśli podmacierz ma wymiar 3x3, używamy funkcji det_sarrus\n",
    "                if len(submatrix) == 3: \n",
    "                    # jeśli wyznacznik jest różny od zera, to rząd macierzy wynosi i, liczbę wierszy\n",
    "                    if det_sarrus(submatrix) != 0:  \n",
    "                        return i\n",
    "                else: \n",
    "                    # w pozostałych przypadkach jeśli wyznacznik jest różny od zera, to rząd macierzy wynosi i, rozmiar macierzy\n",
    "                    if np.linalg.det(submatrix) != 0:  \n",
    "                        return i\n",
    "\n",
    "    # jeśli żadna z wycinanych podmacierzy nie ma wyznacznika różnego od zera,rząd macierzy wynosi 0\n",
    "    return 0"
   ]
  },
  {
   "cell_type": "code",
   "execution_count": 4,
   "id": "27d8da8b",
   "metadata": {},
   "outputs": [],
   "source": [
    "A = np.array([[1, 1, 5], [2, 0, 6], [8, 3, 2]])\n",
    "\n",
    "B = np.array([[3, -1, 1], [5, 1, 4], [-1, 3, 2]])\n",
    "\n",
    "C = np.array([[1, 3, -1, 4], [1, -1, 3, 5], [0, 1, 4, -2], [10, -2, 5, 1]])\n",
    "\n",
    "D = np.array([[2, 8, 3, -4], [1, 4, 1, -2], [5, 20, 0, -10], [-3, -12, -2, 6]])"
   ]
  },
  {
   "cell_type": "code",
   "execution_count": 6,
   "id": "304d1241",
   "metadata": {},
   "outputs": [
    {
     "data": {
      "text/plain": [
       "56"
      ]
     },
     "execution_count": 6,
     "metadata": {},
     "output_type": "execute_result"
    }
   ],
   "source": [
    "det_sarrus(A)"
   ]
  },
  {
   "cell_type": "code",
   "execution_count": 7,
   "id": "2c96762d",
   "metadata": {},
   "outputs": [
    {
     "data": {
      "text/plain": [
       "0"
      ]
     },
     "execution_count": 7,
     "metadata": {},
     "output_type": "execute_result"
    }
   ],
   "source": [
    "det_sarrus(B)"
   ]
  },
  {
   "cell_type": "code",
   "execution_count": 8,
   "id": "a19c7552",
   "metadata": {},
   "outputs": [
    {
     "data": {
      "text/plain": [
       "1059.0000000000011"
      ]
     },
     "execution_count": 8,
     "metadata": {},
     "output_type": "execute_result"
    }
   ],
   "source": [
    "np.linalg.det(C)"
   ]
  },
  {
   "cell_type": "code",
   "execution_count": 9,
   "id": "389f5c0a",
   "metadata": {},
   "outputs": [
    {
     "data": {
      "text/plain": [
       "4"
      ]
     },
     "execution_count": 9,
     "metadata": {},
     "output_type": "execute_result"
    }
   ],
   "source": [
    "matrix_rank2(C)"
   ]
  },
  {
   "cell_type": "code",
   "execution_count": 10,
   "id": "16c3289c",
   "metadata": {},
   "outputs": [
    {
     "data": {
      "text/plain": [
       "2"
      ]
     },
     "execution_count": 10,
     "metadata": {},
     "output_type": "execute_result"
    }
   ],
   "source": [
    "matrix_rank2(D)"
   ]
  },
  {
   "cell_type": "code",
   "execution_count": 11,
   "id": "9f5bf104",
   "metadata": {},
   "outputs": [
    {
     "data": {
      "text/plain": [
       "3"
      ]
     },
     "execution_count": 11,
     "metadata": {},
     "output_type": "execute_result"
    }
   ],
   "source": [
    "matrix_rank2(A)"
   ]
  },
  {
   "cell_type": "code",
   "execution_count": 12,
   "id": "9fd80f6b",
   "metadata": {},
   "outputs": [
    {
     "data": {
      "text/plain": [
       "2"
      ]
     },
     "execution_count": 12,
     "metadata": {},
     "output_type": "execute_result"
    }
   ],
   "source": [
    "matrix_rank2(B)"
   ]
  },
  {
   "cell_type": "code",
   "execution_count": 13,
   "id": "f3ebd236",
   "metadata": {},
   "outputs": [
    {
     "data": {
      "text/plain": [
       "3"
      ]
     },
     "execution_count": 13,
     "metadata": {},
     "output_type": "execute_result"
    }
   ],
   "source": [
    "np.linalg.matrix_rank(A)"
   ]
  },
  {
   "cell_type": "code",
   "execution_count": 14,
   "id": "a2443750",
   "metadata": {},
   "outputs": [
    {
     "data": {
      "text/plain": [
       "2"
      ]
     },
     "execution_count": 14,
     "metadata": {},
     "output_type": "execute_result"
    }
   ],
   "source": [
    "np.linalg.matrix_rank(B)"
   ]
  },
  {
   "cell_type": "code",
   "execution_count": 15,
   "id": "1fe4d09f",
   "metadata": {},
   "outputs": [
    {
     "data": {
      "text/plain": [
       "4"
      ]
     },
     "execution_count": 15,
     "metadata": {},
     "output_type": "execute_result"
    }
   ],
   "source": [
    "np.linalg.matrix_rank(C)"
   ]
  },
  {
   "cell_type": "code",
   "execution_count": null,
   "id": "2b9f185d",
   "metadata": {},
   "outputs": [],
   "source": []
  }
 ],
 "metadata": {
  "kernelspec": {
   "display_name": "Python 3 (ipykernel)",
   "language": "python",
   "name": "python3"
  },
  "language_info": {
   "codemirror_mode": {
    "name": "ipython",
    "version": 3
   },
   "file_extension": ".py",
   "mimetype": "text/x-python",
   "name": "python",
   "nbconvert_exporter": "python",
   "pygments_lexer": "ipython3",
   "version": "3.9.13"
  }
 },
 "nbformat": 4,
 "nbformat_minor": 5
}
