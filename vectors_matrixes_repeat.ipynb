{
 "cells": [
  {
   "cell_type": "code",
   "execution_count": 1,
   "id": "ea015b15",
   "metadata": {},
   "outputs": [],
   "source": [
    "import numpy as np\n",
    "import tensorflow as tf"
   ]
  },
  {
   "cell_type": "code",
   "execution_count": 3,
   "id": "7b84835a",
   "metadata": {},
   "outputs": [
    {
     "data": {
      "text/plain": [
       "array([1, 4, 5, 6, 2, 5, 6, 7, 0, 8])"
      ]
     },
     "execution_count": 3,
     "metadata": {},
     "output_type": "execute_result"
    }
   ],
   "source": [
    "# zad 1\n",
    "\n",
    "arr = np.array([1, 4, 5, 6, 2, 1, 5, 6, 7, 0])\n",
    "\n",
    "index = 5\n",
    "arr2 = np.delete(arr, index)\n",
    "\n",
    "new_vector = np.append(arr2, 8)\n",
    "\n",
    "new_vector"
   ]
  },
  {
   "cell_type": "code",
   "execution_count": 4,
   "id": "9f952078",
   "metadata": {},
   "outputs": [
    {
     "data": {
      "text/plain": [
       "array([ 1,  6,  5,  8,  2,  7,  6,  9,  0, 10])"
      ]
     },
     "execution_count": 4,
     "metadata": {},
     "output_type": "execute_result"
    }
   ],
   "source": [
    "for i in range(len(new_vector)):\n",
    "    if i % 2 == 1:\n",
    "        new_vector[i] += 2\n",
    "        \n",
    "new_vector"
   ]
  },
  {
   "cell_type": "code",
   "execution_count": 7,
   "id": "ec8a9229",
   "metadata": {},
   "outputs": [
    {
     "data": {
      "text/plain": [
       "array([10,  0,  9,  6,  7,  2,  8,  5,  6,  1])"
      ]
     },
     "execution_count": 7,
     "metadata": {},
     "output_type": "execute_result"
    }
   ],
   "source": [
    "reverse = new_vector[::-1]\n",
    "\n",
    "reverse"
   ]
  },
  {
   "cell_type": "code",
   "execution_count": 9,
   "id": "478aa860",
   "metadata": {},
   "outputs": [
    {
     "name": "stdout",
     "output_type": "stream",
     "text": [
      "[ 3  6  9 12 15]\n",
      "[1, 2, 3, 4, 5, 1, 2, 3, 4, 5, 1, 2, 3, 4, 5]\n"
     ]
    }
   ],
   "source": [
    "# zad2\n",
    "\n",
    "vec = np.array([1, 2, 3, 4, 5])\n",
    "scalar = 3\n",
    "result = vec * scalar\n",
    "\n",
    "li = [1, 2, 3, 4, 5]\n",
    "result2 = li * scalar\n",
    "\n",
    "print(result)\n",
    "print(result2)\n",
    "\n",
    "# mnożenie wektora przez skalar skutkuje przemnożeniem każdej wartości w wektorze \n",
    "# natomiast poprzez pomnożenie listy przez skalar otrzymamy w tym przypadku\n",
    "# potrojoną liczbę elementów oraz powielenie elementów listy"
   ]
  },
  {
   "cell_type": "code",
   "execution_count": 10,
   "id": "0f4bd537",
   "metadata": {},
   "outputs": [
    {
     "data": {
      "text/plain": [
       "array([[-1,  5,  0],\n",
       "       [ 2, 44,  1],\n",
       "       [ 3,  8,  0]])"
      ]
     },
     "execution_count": 10,
     "metadata": {},
     "output_type": "execute_result"
    }
   ],
   "source": [
    "# zad3\n",
    "\n",
    "matrix = np.array([[3, 5, 0],[2, 6, 1],[3, 8, 9]])\n",
    "matrix[0][0] = -1\n",
    "matrix[1][1] = 44\n",
    "matrix[-1][-1] = 0\n",
    "matrix"
   ]
  },
  {
   "cell_type": "code",
   "execution_count": 11,
   "id": "ec6dfa3e",
   "metadata": {},
   "outputs": [
    {
     "data": {
      "text/plain": [
       "array([[ 0,  5,  0],\n",
       "       [ 2, 44,  1],\n",
       "       [ 0,  8,  0]])"
      ]
     },
     "execution_count": 11,
     "metadata": {},
     "output_type": "execute_result"
    }
   ],
   "source": [
    "# zad4\n",
    "\n",
    "for i in range(len(matrix[0])):\n",
    "    for j in range(len(matrix[1])):\n",
    "        if i % 2 == 0 and j % 2 == 0:\n",
    "            matrix[i][j] = 0\n",
    "            \n",
    "matrix"
   ]
  },
  {
   "cell_type": "code",
   "execution_count": 12,
   "id": "ee9b4855",
   "metadata": {},
   "outputs": [
    {
     "data": {
      "text/plain": [
       "array([[ 3,  1,  6],\n",
       "       [ 3,  4, 12],\n",
       "       [ 4,  8,  5]])"
      ]
     },
     "execution_count": 12,
     "metadata": {},
     "output_type": "execute_result"
    }
   ],
   "source": [
    "# zad5\n",
    "\n",
    "matrix1 = np.array([[2, 1, 1],[1, 3, 6],[4, 5, 5]])\n",
    "matrix2 = np.array([[1, 0, 5],[2, 1, 6],[0, 3, 0]])\n",
    "\n",
    "for i in range(len(matrix1[0])):\n",
    "    for j in range(len(matrix1[1])):\n",
    "            matrix1[i][j] += matrix2[i][j]\n",
    "            \n",
    "matrix1"
   ]
  },
  {
   "cell_type": "code",
   "execution_count": 13,
   "id": "56765efa",
   "metadata": {},
   "outputs": [
    {
     "name": "stdout",
     "output_type": "stream",
     "text": [
      "tf.Tensor(\n",
      "[[ 1  2  3  4]\n",
      " [ 5  6  7  8]\n",
      " [ 9 10 11 12]\n",
      " [13 14 15 16]], shape=(4, 4), dtype=int32)\n"
     ]
    }
   ],
   "source": [
    "# zad6\n",
    "\n",
    "t = tf.constant([[1, 2, 3, 4], [5, 6, 7, 8], [9, 10, 11, 12], [13, 14, 15, 16]])\n",
    "\n",
    "print(t)\n",
    "\n",
    "# Tensor ten zawiera liczby całkowite od 1 do 16, o wymiarach 4x4, czyli 4 wierszach i 4 kolumnach o czym powiadamia nas shape=(4,4),\n",
    "# możemy wyczytać, że typem danych jest int32, ponieważ TensorFlow domyślnie używa tego typu danych dla liczb całkowitych,\n",
    "# liczby całkowite są przechowywane w formacie 32-bitowym"
   ]
  }
 ],
 "metadata": {
  "kernelspec": {
   "display_name": "Python 3 (ipykernel)",
   "language": "python",
   "name": "python3"
  },
  "language_info": {
   "codemirror_mode": {
    "name": "ipython",
    "version": 3
   },
   "file_extension": ".py",
   "mimetype": "text/x-python",
   "name": "python",
   "nbconvert_exporter": "python",
   "pygments_lexer": "ipython3",
   "version": "3.9.13"
  }
 },
 "nbformat": 4,
 "nbformat_minor": 5
}
